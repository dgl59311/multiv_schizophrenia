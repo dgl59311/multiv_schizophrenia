{
 "cells": [
  {
   "cell_type": "code",
   "execution_count": 22,
   "id": "5584d754",
   "metadata": {},
   "outputs": [
    {
     "name": "stderr",
     "output_type": "stream",
     "text": [
      "Intel(R) Extension for Scikit-learn* enabled (https://github.com/intel/scikit-learn-intelex)\n"
     ]
    }
   ],
   "source": [
    "import os\n",
    "import pickle\n",
    "from tqdm import tqdm\n",
    "import numpy as np\n",
    "import pandas as pd\n",
    "import matplotlib.pyplot as plt\n",
    "import pingouin as pg\n",
    "from sklearnex import patch_sklearn\n",
    "patch_sklearn()\n",
    "from sklearn.impute import SimpleImputer\n",
    "from sklearn.preprocessing import StandardScaler\n",
    "from sklearn.linear_model import LogisticRegressionCV\n",
    "from sklearn.model_selection import RepeatedStratifiedKFold\n",
    "from sklearn.feature_selection import VarianceThreshold\n",
    "from sklearn.metrics import roc_auc_score, accuracy_score\n",
    "from sklearn.pipeline import Pipeline\n",
    "from sklearn.base import clone\n",
    "import warnings\n",
    "from sklearn.exceptions import ConvergenceWarning"
   ]
  },
  {
   "cell_type": "code",
   "execution_count": 2,
   "id": "8ed5f64d",
   "metadata": {},
   "outputs": [],
   "source": [
    "# Main directory\n",
    "MainDir = r\"\"\n",
    "# Directory with data\n",
    "DataDir = os.path.join(MainDir,\"eeg_features\")\n",
    "# File names\n",
    "File_names = list(filter(lambda x: '.csv' in x, os.listdir(DataDir)))\n",
    "# get feature names\n",
    "Features = [feature.replace('.csv','') for feature in File_names]\n",
    "# load file with full names of EEG features\n",
    "eeg_names = pd.read_csv(\"eeg_features_names.csv\", index_col = 0)"
   ]
  },
  {
   "cell_type": "code",
   "execution_count": 3,
   "id": "99ddc3f3",
   "metadata": {},
   "outputs": [],
   "source": [
    "# lr model\n",
    "# variance threshold normalizes and deletes variables with no variance\n",
    "lrclass_model = Pipeline(steps = [('impute', SimpleImputer(missing_values = np.nan, strategy='median')),\n",
    "                                  ('variance', VarianceThreshold()),\n",
    "                                  ('normalize', StandardScaler()),\n",
    "                                  ('lr', LogisticRegressionCV(Cs = np.logspace(-4,4,10), cv = 3, random_state=234))])"
   ]
  },
  {
   "cell_type": "code",
   "execution_count": 4,
   "id": "620e82b3",
   "metadata": {},
   "outputs": [],
   "source": [
    "# repeat procedure \n",
    "repeat_n = 100\n",
    "cv_i = 3\n",
    "# define random split function\n",
    "random_sp = RepeatedStratifiedKFold(n_splits = cv_i, n_repeats = repeat_n,random_state = 234)\n",
    "\n",
    "# define random split function permutation\n",
    "repeat_nn = 1000\n",
    "random_sp_1000 = RepeatedStratifiedKFold(n_splits = cv_i, n_repeats = repeat_nn, random_state = 234)"
   ]
  },
  {
   "cell_type": "code",
   "execution_count": 5,
   "id": "7034cf6f",
   "metadata": {},
   "outputs": [
    {
     "name": "stderr",
     "output_type": "stream",
     "text": [
      "100%|████████████████████████████████████████████████████████████████████████████| 194/194 [19:55:00<00:00, 369.59s/it]\n"
     ]
    }
   ],
   "source": [
    "# allocate memory\n",
    "# train data\n",
    "roc_scores_train = np.zeros((len(File_names), cv_i, repeat_n))\n",
    "roc_scores_null_train = np.zeros((len(File_names), cv_i, repeat_nn))\n",
    "# test data\n",
    "roc_scores_test = np.zeros((len(File_names), cv_i, repeat_n))\n",
    "roc_scores_null_test = np.zeros((len(File_names), cv_i, repeat_nn))\n",
    "# train data\n",
    "acc_scores_train = np.zeros((len(File_names), cv_i, repeat_n))\n",
    "acc_scores_null_train = np.zeros((len(File_names), cv_i, repeat_nn))\n",
    "# test data\n",
    "acc_scores_test = np.zeros((len(File_names), cv_i, repeat_n))\n",
    "acc_scores_null_test = np.zeros((len(File_names), cv_i, repeat_nn))\n",
    "\n",
    "with warnings.catch_warnings():\n",
    "    warnings.simplefilter(\"ignore\", category=ConvergenceWarning)\n",
    "    \n",
    "    for k in tqdm(range(len(File_names))):\n",
    "    \n",
    "        inFile = File_names[k]\n",
    "        dataX = pd.read_csv(DataDir + \"\\\\\" + inFile)\n",
    "    \n",
    "        group_cat = np.array(dataX['Group'])\n",
    "        group_cat[group_cat == 'SZPatients'] = 1\n",
    "        group_cat[group_cat == 'Controls'] = 0\n",
    "        group_cat = group_cat.astype(int)\n",
    "    \n",
    "        eeg = dataX.drop(['Group'],axis = 1)\n",
    "    \n",
    "        c_s = 0\n",
    "        rep = 0\n",
    "        # get true estimate of acc and roc\n",
    "        for train_index, test_index in random_sp.split(eeg, group_cat):\n",
    "        \n",
    "            eeg_train = eeg.values[train_index,:]\n",
    "            eeg_test = eeg.values[test_index,:]\n",
    "            group_train = group_cat[train_index]\n",
    "            group_test = group_cat[test_index]\n",
    "        \n",
    "            # fit Ridge model\n",
    "            internal_lr = clone(lrclass_model)\n",
    "            fit_lr = internal_lr.fit(eeg_train,group_train)\n",
    "        \n",
    "            # predict data\n",
    "            predict_train = fit_lr.predict(eeg_train)\n",
    "            predict_test = fit_lr.predict(eeg_test)\n",
    "        \n",
    "            # save performance\n",
    "            roc_scores_train[k,c_s,rep] = roc_auc_score(group_train, predict_train)\n",
    "            roc_scores_test[k,c_s,rep] = roc_auc_score(group_test, predict_test)\n",
    "            acc_scores_train[k,c_s,rep] = accuracy_score(group_train, predict_train)\n",
    "            acc_scores_test[k,c_s,rep] = accuracy_score(group_test, predict_test)\n",
    "            \n",
    "            c_s = c_s + 1\n",
    "        \n",
    "            if c_s == cv_i:\n",
    "                rep = rep + 1\n",
    "                c_s = 0\n",
    "        \n",
    "        # create null models\n",
    "            \n",
    "        rep = 0\n",
    "        c_s = 0\n",
    "        \n",
    "        for train_index_n, test_index_n in random_sp_1000.split(eeg, group_cat):\n",
    "            \n",
    "            # random label permutation\n",
    "            np.random.seed(rep)\n",
    "            perm_ix_tr = np.random.permutation(len(train_index_n))\n",
    "            perm_ix_ts = np.random.permutation(len(test_index_n))\n",
    "            \n",
    "            \n",
    "            eeg_train = eeg.values[train_index_n,:]\n",
    "            eeg_test = eeg.values[test_index_n,:]\n",
    "            group_train = group_cat[train_index_n[perm_ix_tr]]\n",
    "            group_test = group_cat[test_index_n[perm_ix_ts]]\n",
    "        \n",
    "            # fit Ridge model\n",
    "            internal_lr = clone(lrclass_model)\n",
    "            fit_lr = internal_lr.fit(eeg_train,group_train)\n",
    "        \n",
    "            # predict data\n",
    "            predict_train = fit_lr.predict(eeg_train)\n",
    "            predict_test = fit_lr.predict(eeg_test)\n",
    "        \n",
    "            # save performance\n",
    "            roc_scores_null_train[k,c_s,rep] = roc_auc_score(group_train, predict_train)\n",
    "            roc_scores_null_test[k,c_s,rep] = roc_auc_score(group_test, predict_test)\n",
    "            acc_scores_null_train[k,c_s,rep] = accuracy_score(group_train, predict_train)\n",
    "            acc_scores_null_test[k,c_s,rep] = accuracy_score(group_test, predict_test)\n",
    "            \n",
    "            c_s = c_s + 1\n",
    "        \n",
    "            if c_s == cv_i:\n",
    "                rep = rep + 1\n",
    "                c_s = 0\n",
    "\n"
   ]
  },
  {
   "cell_type": "code",
   "execution_count": 6,
   "id": "43f1ec54",
   "metadata": {},
   "outputs": [],
   "source": [
    "roc_test = roc_scores_test.mean(axis=1).mean(axis=1)\n",
    "roc_null = roc_scores_null_test.mean(axis=1)"
   ]
  },
  {
   "cell_type": "code",
   "execution_count": 8,
   "id": "0b77aac1",
   "metadata": {},
   "outputs": [
    {
     "data": {
      "text/plain": [
       "[<matplotlib.lines.Line2D at 0x2097e582c70>]"
      ]
     },
     "execution_count": 8,
     "metadata": {},
     "output_type": "execute_result"
    },
    {
     "data": {
      "image/png": "[encoded data removed]",
      "text/plain": [
       "<Figure size 432x288 with 1 Axes>"
      ]
     },
     "metadata": {
      "needs_background": "light"
     },
     "output_type": "display_data"
    }
   ],
   "source": [
    "plt.plot(roc_test)"
   ]
  },
  {
   "cell_type": "code",
   "execution_count": 14,
   "id": "4c754d66",
   "metadata": {},
   "outputs": [
    {
     "data": {
      "text/plain": [
       "91"
      ]
     },
     "execution_count": 14,
     "metadata": {},
     "output_type": "execute_result"
    }
   ],
   "source": [
    "roc_test = roc_scores_test.mean(axis=1).mean(axis=1)\n",
    "roc_null = roc_scores_null_test.mean(axis=1)\n",
    "# acccuracies\n",
    "acc_test = acc_scores_test.mean(axis=1).mean(axis=1)\n",
    "acc_null = acc_scores_null_test.mean(axis=1)\n",
    "# get p values from permutation\n",
    "pvals_null = [len(np.where(roc_test[i] < roc_null[i])[0])/repeat_nn for i in range(len(roc_test))]\n",
    "_, pvals_null_corr = pg.multicomp(pvals_null, alpha=0.05, method='fdr_bh') \n",
    "\n",
    "# load data frame from ancova analysis\n",
    "ancova_results = pd.read_csv(\"CohenD_for_ANCOVAs.csv\", index_col=0)\n",
    "pvals_ancova = ancova_results.loc[Features]['p-vals']\n",
    "len(np.where(np.array(pvals_null)<0.05)[0])"
   ]
  },
  {
   "cell_type": "code",
   "execution_count": 17,
   "id": "d10b40c4",
   "metadata": {},
   "outputs": [],
   "source": [
    "index_df = eeg_names.loc[Features]['new-names']\n",
    "data_df = np.vstack((np.round(roc_scores_train.mean(axis=1).mean(axis=1),4),np.round(roc_scores_test.mean(axis=1).mean(axis=1),4), \n",
    "                     np.round(acc_scores_train.mean(axis=1).mean(axis=1),4),np.round(acc_scores_test.mean(axis=1).mean(axis=1),4),np.array(pvals_null),\n",
    "                     np.array(pvals_ancova))).transpose()\n",
    "columns_df = ['auc score train', 'auc score test', 'acc score train', 'acc score test', 'p-value', 'p-value group ancova']\n",
    "df_classification = pd.DataFrame(data=data_df, index=index_df, columns=columns_df)\n",
    "df_classification.to_csv(\"classification_results.csv\")"
   ]
  },
  {
   "cell_type": "code",
   "execution_count": 18,
   "id": "19e9f76b",
   "metadata": {},
   "outputs": [
    {
     "name": "stdout",
     "output_type": "stream",
     "text": [
      "Index(['amp_env_meanGamma', 'amp_env_stdGamma', 'amp_skewTheta',\n",
      "       'amp_total_powGamma', 'el_plv_betw_delta', 'el_plv_betw_gamma',\n",
      "       'HFD_Delta', 'INSTalpha_nodestrength', 'INSTbeta_betwcentr',\n",
      "       'INSTtheta_clusteringcoefficient', 'KFD_Gamma', 'LCOHgamma_betwcentr'],\n",
      "      dtype='object')\n",
      "significant features classification: 91\n",
      "sign min max auc train: (0.6095, 0.8475)\n",
      "sign min max auc test: (0.5233, 0.7147)\n",
      "sign min max acc train: (0.6906, 0.8726)\n",
      "sign min max acc test: (0.5903, 0.7358)\n"
     ]
    }
   ],
   "source": [
    "out_features_null = np.array(Features)[np.where(np.array(pvals_null) < 0.05)[0]]\n",
    "out_features_ancova = ancova_results.index[np.where(pvals_ancova < 0.05)[0]]\n",
    "significant_in_ancova = [len(np.where(out_features_ancova[k] == out_features_null)[0]) for k in range(len(out_features_ancova))]\n",
    "\n",
    "print(out_features_ancova[np.where(np.array(significant_in_ancova) == 0)[0]])\n",
    "print(f'significant features classification: {len(out_features_null)}')\n",
    "auc_train = df_classification.iloc[np.where(df_classification['p-value'] < 0.05)[0]]['auc score train'].min(), df_classification.iloc[np.where(df_classification['p-value'] < 0.05)[0]]['auc score train'].max()\n",
    "auc_test = df_classification.iloc[np.where(df_classification['p-value'] < 0.05)[0]]['auc score test'].min(), df_classification.iloc[np.where(df_classification['p-value'] < 0.05)[0]]['auc score test'].max()\n",
    "acc_train = df_classification.iloc[np.where(df_classification['p-value'] < 0.05)[0]]['acc score train'].min(), df_classification.iloc[np.where(df_classification['p-value'] < 0.05)[0]]['acc score train'].max()\n",
    "acc_test = df_classification.iloc[np.where(df_classification['p-value'] < 0.05)[0]]['acc score test'].min(), df_classification.iloc[np.where(df_classification['p-value'] < 0.05)[0]]['acc score test'].max()\n",
    "\n",
    "print(f'sign min max auc train: {auc_train}')\n",
    "print(f'sign min max auc test: {auc_test}')\n",
    "print(f'sign min max acc train: {acc_train}')\n",
    "print(f'sign min max acc test: {acc_test}')"
   ]
  },
  {
   "cell_type": "code",
   "execution_count": 25,
   "id": "c027b51c",
   "metadata": {},
   "outputs": [
    {
     "data": {
      "text/plain": [
       "57"
      ]
     },
     "execution_count": 25,
     "metadata": {},
     "output_type": "execute_result"
    }
   ],
   "source": [
    "sum(significant_in_ancova)"
   ]
  },
  {
   "cell_type": "code",
   "execution_count": 23,
   "id": "1fe2c2ca",
   "metadata": {},
   "outputs": [],
   "source": [
    "# create data frame\n",
    "# EEG feature, auc train, auc test, p-value null, acc train acc test\n",
    "\n",
    "# save data in pickle\n",
    "results_class = {\"eeg features\": File_names,\n",
    "                 \"roc_scores_train\": roc_scores_train,\n",
    "                 \"roc_scores_test\": roc_scores_test,\n",
    "                 \"acc_scores_train\": acc_scores_train,\n",
    "                 \"acc_scores_test\": acc_scores_test,\n",
    "                 \"roc_scores_null_train\": roc_scores_null_train,\n",
    "                 \"roc_scores_null_test\": roc_scores_null_train,\n",
    "                 \"acc_scores_null_train\": roc_scores_null_train,\n",
    "                 \"acc_scores_null_test\": roc_scores_null_train,\n",
    "                 \"pval\": pvals_null}\n",
    "\n",
    "with open('results_class.pkl', \"wb\") as f:\n",
    "    pickle.dump(results_class, f)"
   ]
  }
 ],
 "metadata": {
  "kernelspec": {
   "display_name": "Python [conda env:stats_eeg]",
   "language": "python",
   "name": "conda-env-stats_eeg-py"
  },
  "language_info": {
   "codemirror_mode": {
    "name": "ipython",
    "version": 3
   },
   "file_extension": ".py",
   "mimetype": "text/x-python",
   "name": "python",
   "nbconvert_exporter": "python",
   "pygments_lexer": "ipython3",
   "version": "3.9.12"
  }
 },
 "nbformat": 4,
 "nbformat_minor": 5
}
